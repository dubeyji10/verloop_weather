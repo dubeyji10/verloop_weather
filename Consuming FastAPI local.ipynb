{
 "cells": [
  {
   "cell_type": "code",
   "execution_count": 1,
   "id": "471248c6",
   "metadata": {},
   "outputs": [],
   "source": [
    "import requests\n"
   ]
  },
  {
   "cell_type": "markdown",
   "id": "98c2b182",
   "metadata": {},
   "source": [
    "# FOR QUICK FASTAPI SETUP :  https://fastapi.tiangolo.com/tutorial/first-steps/"
   ]
  },
  {
   "cell_type": "code",
   "execution_count": 2,
   "id": "e9743bdf",
   "metadata": {},
   "outputs": [],
   "source": [
    "import pprint"
   ]
  },
  {
   "cell_type": "code",
   "execution_count": 3,
   "id": "ce95427d",
   "metadata": {},
   "outputs": [],
   "source": [
    "base = \"http://localhost:8000/\""
   ]
  },
  {
   "cell_type": "code",
   "execution_count": 6,
   "id": "433ec5c0",
   "metadata": {},
   "outputs": [
    {
     "name": "stdout",
     "output_type": "stream",
     "text": [
      "- making a sample request -\n",
      "CPU times: total: 0 ns\n",
      "Wall time: 2.04 s\n"
     ]
    }
   ],
   "source": [
    "%%time\n",
    "\n",
    "print('- making a sample request -')\n",
    "\n",
    "res = requests.get(url=base)"
   ]
  },
  {
   "cell_type": "code",
   "execution_count": 7,
   "id": "adf5eebe",
   "metadata": {},
   "outputs": [
    {
     "data": {
      "text/plain": [
       "200"
      ]
     },
     "execution_count": 7,
     "metadata": {},
     "output_type": "execute_result"
    }
   ],
   "source": [
    "res.status_code"
   ]
  },
  {
   "cell_type": "code",
   "execution_count": 8,
   "id": "e60f26f6",
   "metadata": {},
   "outputs": [
    {
     "data": {
      "text/plain": [
       "b'{\"message\":\"Hello!\\\\nYou have made a request to root route at Tue Nov 14 20:55:45 2023\"}'"
      ]
     },
     "execution_count": 8,
     "metadata": {},
     "output_type": "execute_result"
    }
   ],
   "source": [
    "res.content"
   ]
  },
  {
   "cell_type": "code",
   "execution_count": 9,
   "id": "61eb756b",
   "metadata": {},
   "outputs": [
    {
     "data": {
      "text/plain": [
       "'{\"message\":\"Hello!\\\\nYou have made a request to root route at Tue Nov 14 20:55:45 2023\"}'"
      ]
     },
     "execution_count": 9,
     "metadata": {},
     "output_type": "execute_result"
    }
   ],
   "source": [
    "res.text"
   ]
  },
  {
   "cell_type": "markdown",
   "id": "e6371553",
   "metadata": {},
   "source": [
    "## weather api - raw from source"
   ]
  },
  {
   "cell_type": "markdown",
   "id": "5187924f",
   "metadata": {},
   "source": [
    "https://rapidapi.com/weatherapi/api/weatherapi-com"
   ]
  },
  {
   "cell_type": "code",
   "execution_count": 10,
   "id": "fc3d3e9d",
   "metadata": {},
   "outputs": [],
   "source": [
    "apiKey = \"add-api-Key\""
   ]
  },
  {
   "cell_type": "code",
   "execution_count": 11,
   "id": "00cf7a21",
   "metadata": {},
   "outputs": [
    {
     "name": "stdout",
     "output_type": "stream",
     "text": [
      "{'current': {'cloud': 0,\n",
      "             'condition': {'code': 1000,\n",
      "                           'icon': '//cdn.weatherapi.com/weather/64x64/day/113.png',\n",
      "                           'text': 'Sunny'},\n",
      "             'feelslike_c': 10.0,\n",
      "             'feelslike_f': 50.0,\n",
      "             'gust_kph': 30.3,\n",
      "             'gust_mph': 18.8,\n",
      "             'humidity': 82,\n",
      "             'is_day': 1,\n",
      "             'last_updated': '2023-11-14 15:15',\n",
      "             'last_updated_epoch': 1699974900,\n",
      "             'precip_in': 0.0,\n",
      "             'precip_mm': 0.09,\n",
      "             'pressure_in': 29.53,\n",
      "             'pressure_mb': 1000.0,\n",
      "             'temp_c': 12.0,\n",
      "             'temp_f': 53.6,\n",
      "             'uv': 3.0,\n",
      "             'vis_km': 10.0,\n",
      "             'vis_miles': 6.0,\n",
      "             'wind_degree': 270,\n",
      "             'wind_dir': 'W',\n",
      "             'wind_kph': 20.2,\n",
      "             'wind_mph': 12.5},\n",
      " 'location': {'country': 'United Kingdom',\n",
      "              'lat': 53.1,\n",
      "              'localtime': '2023-11-14 15:23',\n",
      "              'localtime_epoch': 1699975382,\n",
      "              'lon': -0.13,\n",
      "              'name': 'Boston',\n",
      "              'region': 'Lincolnshire',\n",
      "              'tz_id': 'Europe/London'}}\n"
     ]
    }
   ],
   "source": [
    "# import requests\n",
    "# already imported\n",
    "\n",
    "## boilerplate code from official docs of rapidapi-weatherapi\n",
    "\n",
    "url = \"https://weatherapi-com.p.rapidapi.com/current.json\"\n",
    "\n",
    "querystring = {\"q\":\"53.1,-0.13\"}\n",
    "\n",
    "headers = {\n",
    "\"X-RapidAPI-Key\": apiKey,\n",
    "\"X-RapidAPI-Host\": \"weatherapi-com.p.rapidapi.com\"\n",
    "}\n",
    "\n",
    "response = requests.get(url, headers=headers, params=querystring)\n",
    "\n",
    "# print(response.json())\n",
    "\n",
    "pprint.pprint(response.json())"
   ]
  },
  {
   "attachments": {
    "image.png": {
     "image/png": "[encoded data removed]"
    }
   },
   "cell_type": "markdown",
   "id": "9cb3eaa0",
   "metadata": {},
   "source": [
    "![image.png](attachment:image.png)"
   ]
  },
  {
   "attachments": {
    "image.png": {
     "image/png": "[encoded data removed]"
    }
   },
   "cell_type": "markdown",
   "id": "f15ee676",
   "metadata": {},
   "source": [
    "![image.png](attachment:image.png)"
   ]
  },
  {
   "cell_type": "code",
   "execution_count": 12,
   "id": "b5d96f26",
   "metadata": {},
   "outputs": [
    {
     "name": "stdout",
     "output_type": "stream",
     "text": [
      "{'current': {'cloud': 32,\n",
      "             'condition': {'code': 1003,\n",
      "                           'icon': '//cdn.weatherapi.com/weather/64x64/night/116.png',\n",
      "                           'text': 'Partly cloudy'},\n",
      "             'feelslike_c': 21.9,\n",
      "             'feelslike_f': 71.4,\n",
      "             'gust_kph': 14.3,\n",
      "             'gust_mph': 8.9,\n",
      "             'humidity': 38,\n",
      "             'is_day': 0,\n",
      "             'last_updated': '2023-11-14 20:45',\n",
      "             'last_updated_epoch': 1699974900,\n",
      "             'precip_in': 0.0,\n",
      "             'precip_mm': 0.0,\n",
      "             'pressure_in': 30.02,\n",
      "             'pressure_mb': 1017.0,\n",
      "             'temp_c': 21.9,\n",
      "             'temp_f': 71.4,\n",
      "             'uv': 1.0,\n",
      "             'vis_km': 10.0,\n",
      "             'vis_miles': 6.0,\n",
      "             'wind_degree': 346,\n",
      "             'wind_dir': 'NNW',\n",
      "             'wind_kph': 6.8,\n",
      "             'wind_mph': 4.3},\n",
      " 'location': {'country': 'India',\n",
      "              'lat': 27.18,\n",
      "              'localtime': '2023-11-14 20:55',\n",
      "              'localtime_epoch': 1699975527,\n",
      "              'lon': 78.02,\n",
      "              'name': 'Agra',\n",
      "              'region': 'Uttar Pradesh',\n",
      "              'tz_id': 'Asia/Kolkata'}}\n"
     ]
    }
   ],
   "source": [
    "# import requests\n",
    "# already imported\n",
    "\n",
    "## boilerplate code from official docs of rapidapi-weatherapi\n",
    "\n",
    "url = \"https://weatherapi-com.p.rapidapi.com/current.json\"\n",
    "\n",
    "querystring = {\"q\":\"agra\"}\n",
    "\n",
    "headers = {\n",
    "\"X-RapidAPI-Key\": apiKey,\n",
    "\"X-RapidAPI-Host\": \"weatherapi-com.p.rapidapi.com\"\n",
    "}\n",
    "\n",
    "response = requests.get(url, headers=headers, params=querystring)\n",
    "\n",
    "# print(response.json())\n",
    "\n",
    "pprint.pprint(response.json())"
   ]
  },
  {
   "cell_type": "markdown",
   "id": "31dc2c20",
   "metadata": {},
   "source": [
    "### sample response"
   ]
  },
  {
   "cell_type": "markdown",
   "id": "d454a74d",
   "metadata": {},
   "source": [
    "```json\n",
    "\n",
    "{'message': {'current': {'cloud': 75,\n",
    "                         'condition': {'code': 1003,\n",
    "                                       'icon': '//cdn.weatherapi.com/weather/64x64/night/116.png',\n",
    "                                       'text': 'Partly cloudy'},\n",
    "                         'feelslike_c': 24.5,\n",
    "                         'feelslike_f': 76.1,\n",
    "                         'gust_kph': 12.6,\n",
    "                         'gust_mph': 7.8,\n",
    "                         'humidity': 78,\n",
    "                         'is_day': 0,\n",
    "                         'last_updated': '2023-11-14 19:00',\n",
    "                         'last_updated_epoch': 1699968600,\n",
    "                         'precip_in': 0.0,\n",
    "                         'precip_mm': 0.0,\n",
    "                         'pressure_in': 30.03,\n",
    "                         'pressure_mb': 1017.0,\n",
    "                         'temp_c': 22.0,\n",
    "                         'temp_f': 71.6,\n",
    "                         'uv': 1.0,\n",
    "                         'vis_km': 6.0,\n",
    "                         'vis_miles': 3.0,\n",
    "                         'wind_degree': 30,\n",
    "                         'wind_dir': 'NNE',\n",
    "                         'wind_kph': 6.8,\n",
    "                         'wind_mph': 4.3},\n",
    "             'location': {'country': 'India',\n",
    "                          'lat': 12.98,\n",
    "                          'localtime': '2023-11-14 19:08',\n",
    "                          'localtime_epoch': 1699969085,\n",
    "                          'lon': 77.58,\n",
    "                          'name': 'Bangalore',\n",
    "                          'region': 'Karnataka',\n",
    "                          'tz_id': 'Asia/Kolkata'}}}\n",
    "\n",
    "```"
   ]
  },
  {
   "cell_type": "markdown",
   "id": "57763e5a",
   "metadata": {},
   "source": [
    "## build a wrapper api route for this api above in fast-api"
   ]
  },
  {
   "cell_type": "code",
   "execution_count": 14,
   "id": "c0b63d4b",
   "metadata": {},
   "outputs": [],
   "source": [
    "def get_weather_data(cityName,apiKeyPassed,format_requested):\n",
    "    \n",
    "    url = \"https://weatherapi-com.p.rapidapi.com/current.json\"\n",
    "    querystring = {\"q\":cityName}\n",
    "    headers = {\n",
    "    \"X-RapidAPI-Key\": apiKeyPassed,\n",
    "    \"X-RapidAPI-Host\": \"weatherapi-com.p.rapidapi.com\"\n",
    "    }\n",
    "    response = requests.get(url, headers=headers, params=querystring)\n",
    "    # print(response.json())\n",
    "    if response.status_code==200 or response.status_code==202:\n",
    "        print('request made successfully')\n",
    "        #print('returned json response')\n",
    "        #return {'message':response.json()}\n",
    "        resJson = response.json()\n",
    "        ## build response as per format\n",
    "        if format_requested=='xml':\n",
    "            print('-requested xml format-')\n",
    "            # return \"<xml> pending </xml>\"\n",
    "            return '''\n",
    "                <?xml version=\"1.0\" encoding=\"UTF-8\"?>\n",
    "                <root>\n",
    "                    <Temperature>{}</Temperature>\n",
    "                    <City>{}</City>\n",
    "                    <Latitude>{}</Latitude>\n",
    "                    <Longitude>{}</Longitude>\n",
    "                </root>\n",
    "            '''.format(resJson['current']['temp_c'],resJson['location']['name'],resJson['location']['lat'],resJson['location']['lon'])\n",
    "\n",
    "        else:\n",
    "            print('-json requested by default-')\n",
    "            outputJson = {}\n",
    "            ## all as string in assignment sample??\n",
    "            outputJson['Weather'] = \"{} C\".format(resJson['current']['temp_c'])\n",
    "            outputJson['Latitude'] = \"{}\".format(resJson['location']['lat'])\n",
    "            outputJson['Longitude'] =  \"{}\".format(resJson['location']['lon'])\n",
    "            outputJson['City'] = \"{} {}\".format(resJson['location']['name'] , resJson['location']['country'])\n",
    "            return outputJson\n",
    "        \n",
    "    else:\n",
    "        print('-some error ocurred-')\n",
    "        resJson = response.json()\n",
    "        #         print(response.status_code)\n",
    "        #         print(response.text)\n",
    "        #         return {'message':response.json()}\n",
    "        if format_requested=='xml':\n",
    "            return '''\n",
    "                <?xml version=\"1.0\" encoding=\"UTF-8\"?>\n",
    "                <root>\n",
    "                    <Message>{}</Message>\n",
    "                    <Error>{}</Error>\n",
    "                    <StatusCode>{}</StatusCode>\n",
    "                </root>\n",
    "            '''.format(resJson['error']['message'],resJson['error']['code'],response.status_code)\n",
    "            \n",
    "        else:\n",
    "            #             return {\"message\":\"error occurred\",\"error\":response.status_code,\"error_message\":response.json()}\n",
    "            return {\n",
    "                    \"message\":resJson['error']['message'],\n",
    "                    \"error\":resJson['error']['code'],\n",
    "                    \"status_code\":response.status_code\n",
    "                   }            "
   ]
  },
  {
   "cell_type": "code",
   "execution_count": 15,
   "id": "596e20f6",
   "metadata": {},
   "outputs": [
    {
     "name": "stdout",
     "output_type": "stream",
     "text": [
      "request made successfully\n",
      "-json requested by default-\n",
      "CPU times: total: 31.2 ms\n",
      "Wall time: 508 ms\n"
     ]
    }
   ],
   "source": [
    "%%time\n",
    "\n",
    "response = get_weather_data(cityName='Bangalore',apiKeyPassed=apiKey,format_requested='json')"
   ]
  },
  {
   "cell_type": "code",
   "execution_count": 16,
   "id": "b1e223ab",
   "metadata": {},
   "outputs": [
    {
     "name": "stdout",
     "output_type": "stream",
     "text": [
      "{'City': 'Bangalore India',\n",
      " 'Latitude': '12.98',\n",
      " 'Longitude': '77.58',\n",
      " 'Weather': '22.0 C'}\n"
     ]
    }
   ],
   "source": [
    "pprint.pprint(response)"
   ]
  },
  {
   "cell_type": "code",
   "execution_count": 17,
   "id": "40dde81a",
   "metadata": {},
   "outputs": [
    {
     "name": "stdout",
     "output_type": "stream",
     "text": [
      "request made successfully\n",
      "-requested xml format-\n",
      "CPU times: total: 15.6 ms\n",
      "Wall time: 449 ms\n"
     ]
    }
   ],
   "source": [
    "%%time\n",
    "\n",
    "response = get_weather_data(cityName='Bangalore',apiKeyPassed=apiKey,format_requested='xml')"
   ]
  },
  {
   "cell_type": "code",
   "execution_count": 18,
   "id": "cfaf9cff",
   "metadata": {},
   "outputs": [
    {
     "name": "stdout",
     "output_type": "stream",
     "text": [
      "('\\n'\n",
      " '                <?xml version=\"1.0\" encoding=\"UTF-8\"?>\\n'\n",
      " '                <root>\\n'\n",
      " '                    <Temperature>22.0</Temperature>\\n'\n",
      " '                    <City>Bangalore</City>\\n'\n",
      " '                    <Latitude>12.98</Latitude>\\n'\n",
      " '                    <Longitude>77.58</Longitude>\\n'\n",
      " '                </root>\\n'\n",
      " '            ')\n"
     ]
    }
   ],
   "source": [
    "pprint.pprint(response)"
   ]
  },
  {
   "cell_type": "code",
   "execution_count": 19,
   "id": "8d8c93a6",
   "metadata": {},
   "outputs": [
    {
     "name": "stdout",
     "output_type": "stream",
     "text": [
      "\n",
      "                <?xml version=\"1.0\" encoding=\"UTF-8\"?>\n",
      "                <root>\n",
      "                    <Temperature>22.0</Temperature>\n",
      "                    <City>Bangalore</City>\n",
      "                    <Latitude>12.98</Latitude>\n",
      "                    <Longitude>77.58</Longitude>\n",
      "                </root>\n",
      "            \n"
     ]
    }
   ],
   "source": [
    "print(response)"
   ]
  },
  {
   "cell_type": "code",
   "execution_count": 20,
   "id": "aecab042",
   "metadata": {},
   "outputs": [
    {
     "name": "stdout",
     "output_type": "stream",
     "text": [
      "-some error ocurred-\n",
      "CPU times: total: 31.2 ms\n",
      "Wall time: 799 ms\n"
     ]
    }
   ],
   "source": [
    "%%time\n",
    "\n",
    "response = get_weather_data(cityName='newyork',apiKeyPassed=apiKey,format_requested='json')"
   ]
  },
  {
   "cell_type": "code",
   "execution_count": 21,
   "id": "c005c618",
   "metadata": {},
   "outputs": [
    {
     "data": {
      "text/plain": [
       "{'message': 'No matching location found.', 'error': 1006, 'status_code': 400}"
      ]
     },
     "execution_count": 21,
     "metadata": {},
     "output_type": "execute_result"
    }
   ],
   "source": [
    "response"
   ]
  },
  {
   "cell_type": "code",
   "execution_count": 22,
   "id": "bcef2ba2",
   "metadata": {},
   "outputs": [
    {
     "name": "stdout",
     "output_type": "stream",
     "text": [
      "-some error ocurred-\n",
      "CPU times: total: 31.2 ms\n",
      "Wall time: 442 ms\n"
     ]
    }
   ],
   "source": [
    "%%time\n",
    "\n",
    "response = get_weather_data(cityName='newyork',apiKeyPassed=apiKey,format_requested='xml')"
   ]
  },
  {
   "cell_type": "code",
   "execution_count": 23,
   "id": "d8ba14d2",
   "metadata": {},
   "outputs": [
    {
     "data": {
      "text/plain": [
       "'\\n                <?xml version=\"1.0\" encoding=\"UTF-8\"?>\\n                <root>\\n                    <Message>No matching location found.</Message>\\n                    <Error>1006</Error>\\n                    <StatusCode>400</StatusCode>\\n                </root>\\n            '"
      ]
     },
     "execution_count": 23,
     "metadata": {},
     "output_type": "execute_result"
    }
   ],
   "source": [
    "response"
   ]
  },
  {
   "cell_type": "code",
   "execution_count": 24,
   "id": "31ffd1d1",
   "metadata": {},
   "outputs": [
    {
     "name": "stdout",
     "output_type": "stream",
     "text": [
      "\n",
      "                <?xml version=\"1.0\" encoding=\"UTF-8\"?>\n",
      "                <root>\n",
      "                    <Message>No matching location found.</Message>\n",
      "                    <Error>1006</Error>\n",
      "                    <StatusCode>400</StatusCode>\n",
      "                </root>\n",
      "            \n"
     ]
    }
   ],
   "source": [
    "print(response)"
   ]
  },
  {
   "cell_type": "code",
   "execution_count": 25,
   "id": "de677799",
   "metadata": {},
   "outputs": [
    {
     "name": "stdout",
     "output_type": "stream",
     "text": [
      "('\\n'\n",
      " '                <?xml version=\"1.0\" encoding=\"UTF-8\"?>\\n'\n",
      " '                <root>\\n'\n",
      " '                    <Message>No matching location found.</Message>\\n'\n",
      " '                    <Error>1006</Error>\\n'\n",
      " '                    <StatusCode>400</StatusCode>\\n'\n",
      " '                </root>\\n'\n",
      " '            ')\n"
     ]
    }
   ],
   "source": [
    "pprint.pprint(response)"
   ]
  },
  {
   "cell_type": "markdown",
   "id": "ee8d9597",
   "metadata": {},
   "source": [
    "## testing localhost -- post request with request body"
   ]
  },
  {
   "cell_type": "code",
   "execution_count": 26,
   "id": "918c8ce0",
   "metadata": {},
   "outputs": [
    {
     "data": {
      "text/plain": [
       "'http://localhost:8000/'"
      ]
     },
     "execution_count": 26,
     "metadata": {},
     "output_type": "execute_result"
    }
   ],
   "source": [
    "base"
   ]
  },
  {
   "cell_type": "code",
   "execution_count": 28,
   "id": "75b0d21b",
   "metadata": {},
   "outputs": [],
   "source": [
    "urlWeather = \"http://localhost:8000/getCurrentWeather\"\n"
   ]
  },
  {
   "cell_type": "code",
   "execution_count": 29,
   "id": "d1a54f38",
   "metadata": {},
   "outputs": [
    {
     "name": "stdout",
     "output_type": "stream",
     "text": [
      "- making a sample request -\n",
      "422\n",
      "{'detail': [{'input': 'payload=city&payload=output_format',\n",
      "             'loc': ['body'],\n",
      "             'msg': 'Input should be a valid dictionary or object to extract '\n",
      "                    'fields from',\n",
      "             'type': 'model_attributes_type',\n",
      "             'url': 'https://errors.pydantic.dev/2.5/v/model_attributes_type'}]}\n",
      "CPU times: total: 46.9 ms\n",
      "Wall time: 2.04 s\n"
     ]
    }
   ],
   "source": [
    "%%time\n",
    "\n",
    "\n",
    "print('- making a sample request -')\n",
    "\n",
    "res = requests.post(url=urlWeather,data={\"payload\":{'city':'agra','output_format':'json'}})\n",
    "print(res.status_code)\n",
    "\n",
    "pprint.pprint(res.json())"
   ]
  },
  {
   "cell_type": "code",
   "execution_count": 31,
   "id": "a5235309",
   "metadata": {},
   "outputs": [
    {
     "name": "stdout",
     "output_type": "stream",
     "text": [
      "- making a sample request -\n",
      "422\n",
      "{'detail': [{'input': {'payload': {'city': 'agra', 'output_format': 'json'}},\n",
      "             'loc': ['body', 'name'],\n",
      "             'msg': 'Field required',\n",
      "             'type': 'missing',\n",
      "             'url': 'https://errors.pydantic.dev/2.5/v/missing'},\n",
      "            {'input': {'payload': {'city': 'agra', 'output_format': 'json'}},\n",
      "             'loc': ['body', 'output_format'],\n",
      "             'msg': 'Field required',\n",
      "             'type': 'missing',\n",
      "             'url': 'https://errors.pydantic.dev/2.5/v/missing'}]}\n",
      "CPU times: total: 0 ns\n",
      "Wall time: 2.03 s\n"
     ]
    }
   ],
   "source": [
    "%%time\n",
    "\n",
    "\n",
    "print('- making a sample request -')\n",
    "\n",
    "res = requests.post(url=urlWeather,json={\"payload\":{'city':'agra','output_format':'json'}})\n",
    "print(res.status_code)\n",
    "\n",
    "pprint.pprint(res.json())"
   ]
  },
  {
   "cell_type": "markdown",
   "id": "c2d62527",
   "metadata": {},
   "source": [
    "\n",
    "```python\n",
    "\n",
    "class CityRequested(BaseModel):\n",
    "    # json={'city':'agra','output_format':'json'}\n",
    "    \n",
    "    city: str\n",
    "    output_format: str | None\n",
    "    # Use None to make it just optional.\n",
    "    ## if output format not passed will return json response by default\n",
    "\n",
    "```\n",
    "\n",
    "\n"
   ]
  },
  {
   "cell_type": "code",
   "execution_count": 32,
   "id": "571cb656",
   "metadata": {},
   "outputs": [
    {
     "name": "stdout",
     "output_type": "stream",
     "text": [
      "- making a sample request -\n",
      "200\n",
      "{'city': 'agra',\n",
      " 'output_format': 'json',\n",
      " 'request recieved at': 'Tue Nov 14 21:00:28 2023'}\n",
      "CPU times: total: 0 ns\n",
      "Wall time: 2.03 s\n"
     ]
    }
   ],
   "source": [
    "%%time\n",
    "\n",
    "\n",
    "print('- making a sample request -')\n",
    "\n",
    "res = requests.post(url=urlWeather,json={'city':'agra','output_format':'json'})\n",
    "print(res.status_code)\n",
    "\n",
    "pprint.pprint(res.json())"
   ]
  },
  {
   "cell_type": "code",
   "execution_count": 33,
   "id": "54b905b2",
   "metadata": {},
   "outputs": [
    {
     "data": {
      "text/plain": [
       "'add-api-key'"
      ]
     },
     "execution_count": 33,
     "metadata": {},
     "output_type": "execute_result"
    }
   ],
   "source": [
    "apiKey"
   ]
  },
  {
   "cell_type": "code",
   "execution_count": 39,
   "id": "41fb376a",
   "metadata": {},
   "outputs": [
    {
     "name": "stdout",
     "output_type": "stream",
     "text": [
      "- making request to get current weather -\n",
      "200\n",
      "('{\"Weather\":\"21.6 C\",\"Latitude\":\"27.18\",\"Longitude\":\"78.02\",\"City\":\"Agra '\n",
      " 'India\"}')\n",
      "CPU times: total: 0 ns\n",
      "Wall time: 2.55 s\n"
     ]
    }
   ],
   "source": [
    "%%time\n",
    "\n",
    "\n",
    "print('- making request to get current weather -')\n",
    "\n",
    "res = requests.post(url=urlWeather,json={'city':'agra','output_format':'json'})\n",
    "print(res.status_code)\n",
    "\n",
    "# pprint.pprint(res.json())\n",
    "pprint.pprint(res.text)"
   ]
  },
  {
   "cell_type": "code",
   "execution_count": 40,
   "id": "84a02104",
   "metadata": {},
   "outputs": [
    {
     "name": "stdout",
     "output_type": "stream",
     "text": [
      "- making request to get current weather -\n",
      "200\n",
      "('\"\\\\n                <?xml version=\\\\\"1.0\\\\\" '\n",
      " 'encoding=\\\\\"UTF-8\\\\\"?>\\\\n                <root>\\\\n                    '\n",
      " '<Temperature>21.6</Temperature>\\\\n                    '\n",
      " '<City>Agra</City>\\\\n                    '\n",
      " '<Latitude>27.18</Latitude>\\\\n                    '\n",
      " '<Longitude>78.02</Longitude>\\\\n                </root>\\\\n            \"')\n",
      "CPU times: total: 0 ns\n",
      "Wall time: 2.54 s\n"
     ]
    }
   ],
   "source": [
    "%%time\n",
    "\n",
    "\n",
    "print('- making request to get current weather -')\n",
    "\n",
    "res = requests.post(url=urlWeather,json={'city':'agra','output_format':'xml'})\n",
    "print(res.status_code)\n",
    "\n",
    "# pprint.pprint(res.json())\n",
    "pprint.pprint(res.text)"
   ]
  },
  {
   "cell_type": "code",
   "execution_count": 42,
   "id": "3be180c3",
   "metadata": {},
   "outputs": [
    {
     "name": "stdout",
     "output_type": "stream",
     "text": [
      "\n",
      "                <?xml version=\"1.0\" encoding=\"UTF-8\"?>\n",
      "                <root>\n",
      "                    <Temperature>21.6</Temperature>\n",
      "                    <City>Agra</City>\n",
      "                    <Latitude>27.18</Latitude>\n",
      "                    <Longitude>78.02</Longitude>\n",
      "                </root>\n",
      "            \n"
     ]
    }
   ],
   "source": [
    "# print(res.json())\n",
    "print(res.json())"
   ]
  },
  {
   "cell_type": "code",
   "execution_count": 38,
   "id": "3b785ce4",
   "metadata": {},
   "outputs": [],
   "source": [
    "# print(res.text)"
   ]
  },
  {
   "cell_type": "code",
   "execution_count": 43,
   "id": "5e41e4d6",
   "metadata": {},
   "outputs": [
    {
     "name": "stdout",
     "output_type": "stream",
     "text": [
      "- making request to get current weather -\n",
      "200\n",
      "('\"\\\\n                <?xml version=\\\\\"1.0\\\\\" '\n",
      " 'encoding=\\\\\"UTF-8\\\\\"?>\\\\n                <root>\\\\n                    '\n",
      " '<Message>No matching location found.</Message>\\\\n                    '\n",
      " '<Error>1006</Error>\\\\n                    '\n",
      " '<StatusCode>400</StatusCode>\\\\n                </root>\\\\n            \"')\n",
      "CPU times: total: 0 ns\n",
      "Wall time: 2.67 s\n"
     ]
    }
   ],
   "source": [
    "%%time\n",
    "\n",
    "\n",
    "print('- making request to get current weather -')\n",
    "\n",
    "res = requests.post(url=urlWeather,json={'city':'newyork','output_format':'xml'})\n",
    "print(res.status_code)\n",
    "\n",
    "# pprint.pprint(res.json())\n",
    "pprint.pprint(res.text)"
   ]
  },
  {
   "cell_type": "code",
   "execution_count": 44,
   "id": "176903d1",
   "metadata": {},
   "outputs": [
    {
     "name": "stdout",
     "output_type": "stream",
     "text": [
      "- making request to get current weather -\n",
      "200\n",
      "('\"\\\\n                <?xml version=\\\\\"1.0\\\\\" '\n",
      " 'encoding=\\\\\"UTF-8\\\\\"?>\\\\n                <root>\\\\n                    '\n",
      " '<Temperature>10.0</Temperature>\\\\n                    <City>New '\n",
      " 'York</City>\\\\n                    '\n",
      " '<Latitude>40.71</Latitude>\\\\n                    '\n",
      " '<Longitude>-74.01</Longitude>\\\\n                </root>\\\\n            \"')\n",
      "CPU times: total: 31.2 ms\n",
      "Wall time: 2.88 s\n"
     ]
    }
   ],
   "source": [
    "%%time\n",
    "\n",
    "\n",
    "print('- making request to get current weather -')\n",
    "\n",
    "res = requests.post(url=urlWeather,json={'city':'new york','output_format':'xml'})\n",
    "print(res.status_code)\n",
    "\n",
    "# pprint.pprint(res.json())\n",
    "pprint.pprint(res.text)"
   ]
  },
  {
   "cell_type": "code",
   "execution_count": 47,
   "id": "8b36f65c",
   "metadata": {},
   "outputs": [
    {
     "name": "stdout",
     "output_type": "stream",
     "text": [
      "- making request to get current weather -\n",
      "200\n",
      "('{\"Weather\":\"10.0 C\",\"Latitude\":\"40.71\",\"Longitude\":\"-74.01\",\"City\":\"New York '\n",
      " 'United States of America\"}')\n",
      "CPU times: total: 0 ns\n",
      "Wall time: 2.51 s\n"
     ]
    }
   ],
   "source": [
    "%%time\n",
    "\n",
    "\n",
    "print('- making request to get current weather -')\n",
    "\n",
    "res = requests.post(url=urlWeather,json={'city':'new york','output_format':'json'})\n",
    "print(res.status_code)\n",
    "\n",
    "# pprint.pprint(res.json())\n",
    "pprint.pprint(res.text)"
   ]
  },
  {
   "cell_type": "code",
   "execution_count": 48,
   "id": "2feff044",
   "metadata": {},
   "outputs": [
    {
     "name": "stdout",
     "output_type": "stream",
     "text": [
      "{\"Weather\":\"10.0 C\",\"Latitude\":\"40.71\",\"Longitude\":\"-74.01\",\"City\":\"New York United States of America\"}\n"
     ]
    }
   ],
   "source": [
    "print(res.text)"
   ]
  },
  {
   "cell_type": "markdown",
   "id": "2541503b",
   "metadata": {},
   "source": [
    "# output_format has been made optional -- if not passed -- it will return a json type response"
   ]
  },
  {
   "cell_type": "code",
   "execution_count": 49,
   "id": "e46b4fa1",
   "metadata": {},
   "outputs": [
    {
     "name": "stdout",
     "output_type": "stream",
     "text": [
      "- making request to get current weather -\n",
      "422\n",
      "('{\"detail\":[{\"type\":\"missing\",\"loc\":[\"body\",\"output_format\"],\"msg\":\"Field '\n",
      " 'required\",\"input\":{\"city\":\"newyork\"},\"url\":\"https://errors.pydantic.dev/2.5/v/missing\"}]}')\n",
      "CPU times: total: 0 ns\n",
      "Wall time: 2.06 s\n"
     ]
    }
   ],
   "source": [
    "%%time\n",
    "\n",
    "\n",
    "print('- making request to get current weather -')\n",
    "\n",
    "res = requests.post(url=urlWeather,json={'city':'newyork'})\n",
    "print(res.status_code)\n",
    "\n",
    "# pprint.pprint(res.json())\n",
    "pprint.pprint(res.text)"
   ]
  },
  {
   "cell_type": "code",
   "execution_count": 51,
   "id": "98db389c",
   "metadata": {},
   "outputs": [
    {
     "name": "stdout",
     "output_type": "stream",
     "text": [
      "- making request to get current weather -\n",
      "200\n",
      "('{\"Weather\":\"10.0 C\",\"Latitude\":\"40.71\",\"Longitude\":\"-74.01\",\"City\":\"New York '\n",
      " 'United States of America\"}')\n",
      "CPU times: total: 0 ns\n",
      "Wall time: 2.57 s\n"
     ]
    }
   ],
   "source": [
    "%%time\n",
    "\n",
    "\n",
    "print('- making request to get current weather -')\n",
    "\n",
    "res = requests.post(url=urlWeather,json={'city':'new york'})\n",
    "print(res.status_code)\n",
    "\n",
    "# pprint.pprint(res.json())\n",
    "pprint.pprint(res.text)"
   ]
  },
  {
   "cell_type": "code",
   "execution_count": null,
   "id": "81c07011",
   "metadata": {},
   "outputs": [],
   "source": []
  }
 ],
 "metadata": {
  "kernelspec": {
   "display_name": "Python 3 (ipykernel)",
   "language": "python",
   "name": "python3"
  },
  "language_info": {
   "codemirror_mode": {
    "name": "ipython",
    "version": 3
   },
   "file_extension": ".py",
   "mimetype": "text/x-python",
   "name": "python",
   "nbconvert_exporter": "python",
   "pygments_lexer": "ipython3",
   "version": "3.10.7"
  }
 },
 "nbformat": 4,
 "nbformat_minor": 5
}
